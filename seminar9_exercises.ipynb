{
 "cells": [
  {
   "cell_type": "code",
   "execution_count": 59,
   "id": "81ed0312",
   "metadata": {},
   "outputs": [
    {
     "name": "stdout",
     "output_type": "stream",
     "text": [
      "0 1 2 3 5 7 11 13 17 19 23 29 31 37 41 43 47 53 59 61 67 71 73 79 83 89 97 \n",
      "341 "
     ]
    }
   ],
   "source": [
    "#1 Write a function to check if a number N is prime! \n",
    "# find the divisors from 2 up to root(N) \n",
    "#•\tuse this function to display the prime numbers between 1 and 100 \n",
    "# Optionally: use another primality test, such as Fermat method. \n",
    "# In case of Fermat method, try it with a pseudoprime too, e.g. 341 \n",
    "def isItPrime(num) :\n",
    "    counter = 0\n",
    "    for i in range(2, num):\n",
    "        if num % i == 0:\n",
    "            counter = counter + 1\n",
    "    if counter == 0:\n",
    "        print(num, end=' ')\n",
    "\n",
    "for i in range(0, 100):\n",
    "    isItPrime(i)\n",
    "print()\n",
    "#optional\n",
    "def isItApproximatelyPrime(num):\n",
    "    counter = 0\n",
    "    for i in range(1, num - 1):\n",
    "        if (i ** (num - 1)) % num == 1:\n",
    "            counter = counter + 1\n",
    "        if counter > 3:\n",
    "            print(num, end=' ')\n",
    "            counter = 0\n",
    "            break\n",
    "        \n",
    "isItApproximatelyPrime(341)"
   ]
  },
  {
   "cell_type": "code",
   "execution_count": 124,
   "id": "ebad4aeb",
   "metadata": {},
   "outputs": [
    {
     "name": "stdout",
     "output_type": "stream",
     "text": [
      "0 1 1 2 3 5 8 13 21 34 "
     ]
    }
   ],
   "source": [
    "#2 Write a procedure to display the first N Fibonacci numbers! \n",
    "#•\tN should be a mandatory parameter \n",
    "#•\tThe zeroth and the first elements should be optional parameters with a default value of 1 \n",
    "# Use the following formula to calculate the nth Fibonacci number (n > 1): Fn=Fn−1+Fn−2\n",
    "def fibseq(num, first = 0, second = 1):\n",
    "    if num != 1:\n",
    "        print(first, end=' ')\n",
    "        return fibseq(num - 1, second, second+first)\n",
    "    else:\n",
    "        print(first, end=' ')\n",
    "\n",
    "N = 10\n",
    "fibseq(N)"
   ]
  },
  {
   "cell_type": "code",
   "execution_count": 149,
   "id": "71d07576",
   "metadata": {},
   "outputs": [
    {
     "name": "stdout",
     "output_type": "stream",
     "text": [
      "     1 \n",
      "    1 1 \n",
      "   1 2 1 \n",
      "  1 3 3 1 \n",
      " 1 4 6 4 1 \n"
     ]
    }
   ],
   "source": [
    "#3 Write a function to calculate the factorial for the number n. Using this to ... \n",
    "# create a new function to calculate the binomial coefficient according to the following formula:   \n",
    "# nCr = n!/(r! * (n-r)!) \n",
    "# create a procedure to display the first N rows of the Pascal’s triangle \n",
    "def factorize(num):\n",
    "    if num == 0:\n",
    "        return 1\n",
    "    else:\n",
    "        return num * factorize(num - 1)\n",
    "def binomial_coefficient(number):\n",
    "    for i in range(0, number + 1):\n",
    "        coef = factorize(number)//(factorize(i) * factorize(number - i))\n",
    "        print(coef, end=' ')\n",
    "\n",
    "n = 5\n",
    "for i in range(n):\n",
    "    print(\" \" * (n - i), end='')\n",
    "    binomial_coefficient(i)\n",
    "    print()"
   ]
  },
  {
   "cell_type": "code",
   "execution_count": 160,
   "id": "c21b747b",
   "metadata": {},
   "outputs": [
    {
     "name": "stdout",
     "output_type": "stream",
     "text": [
      "[34, 53, 47, 55, 6]\n",
      "[6, 34, 47, 53, 55]\n"
     ]
    }
   ],
   "source": [
    "#4 Write a program that is divided into three logical parts: \n",
    "# the first part generates n random integers between a and b, and puts them into a list \n",
    "# the second part sorts the list elements in ascending order (you can use any learned sorting algorithm) \n",
    "# the third part displays the original and the sorted lists \n",
    "# Use functions and/or procedures to solve this exercise \n",
    "# Ask the values of n, a, and b from the user\n",
    "import random as rd\n",
    "def randomizer(n = 5, a = 0, b = 100):\n",
    "    y = range(a, b)\n",
    "    mylist = []\n",
    "    for i in range(n):\n",
    "        mylist.append(rd.choice(y))\n",
    "    return mylist\n",
    "\n",
    "def sorting(mylist):\n",
    "    for i in range(0, len(mylist)):\n",
    "        for j in range(i + 1, len(mylist)):\n",
    "            if mylist[j] < mylist[i]:\n",
    "                mylist[j], mylist[i] = mylist[i], mylist[j]\n",
    "def showmylist(mylist):\n",
    "    print(mylist)\n",
    "    sorting(mylist)\n",
    "    print(mylist)\n",
    "\n",
    "showmylist(randomizer())"
   ]
  },
  {
   "cell_type": "code",
   "execution_count": 205,
   "id": "e0cd8130",
   "metadata": {},
   "outputs": [
    {
     "name": "stdout",
     "output_type": "stream",
     "text": [
      "{'H': 1, 'e': 1, 'l': 3, 'o': 2, ' ': 1, 'W': 1, 'r': 1, 'd': 1, '!': 1}\n"
     ]
    },
    {
     "ename": "TypeError",
     "evalue": "map() must have at least two arguments.",
     "output_type": "error",
     "traceback": [
      "\u001b[1;31m---------------------------------------------------------------------------\u001b[0m",
      "\u001b[1;31mTypeError\u001b[0m                                 Traceback (most recent call last)",
      "\u001b[1;32mc:\\Users\\Tumadiken\\OneDrive - nu.edu.kz\\Рабочий стол\\Code\\python\\Python\\seminar9_exercises.ipynb Cell 5\u001b[0m line \u001b[0;36m2\n\u001b[0;32m     <a href='vscode-notebook-cell:/c%3A/Users/Tumadiken/OneDrive%20-%20nu.edu.kz/%D0%A0%D0%B0%D0%B1%D0%BE%D1%87%D0%B8%D0%B9%20%D1%81%D1%82%D0%BE%D0%BB/Code/python/Python/seminar9_exercises.ipynb#W4sZmlsZQ%3D%3D?line=22'>23</a>\u001b[0m     \u001b[39mprint\u001b[39m(doubling)\n\u001b[0;32m     <a href='vscode-notebook-cell:/c%3A/Users/Tumadiken/OneDrive%20-%20nu.edu.kz/%D0%A0%D0%B0%D0%B1%D0%BE%D1%87%D0%B8%D0%B9%20%D1%81%D1%82%D0%BE%D0%BB/Code/python/Python/seminar9_exercises.ipynb#W4sZmlsZQ%3D%3D?line=23'>24</a>\u001b[0m freq()\n\u001b[1;32m---> <a href='vscode-notebook-cell:/c%3A/Users/Tumadiken/OneDrive%20-%20nu.edu.kz/%D0%A0%D0%B0%D0%B1%D0%BE%D1%87%D0%B8%D0%B9%20%D1%81%D1%82%D0%BE%D0%BB/Code/python/Python/seminar9_exercises.ipynb#W4sZmlsZQ%3D%3D?line=24'>25</a>\u001b[0m \u001b[39mprint\u001b[39m(doubles(freq))\n",
      "\u001b[1;32mc:\\Users\\Tumadiken\\OneDrive - nu.edu.kz\\Рабочий стол\\Code\\python\\Python\\seminar9_exercises.ipynb Cell 5\u001b[0m line \u001b[0;36m2\n\u001b[0;32m     <a href='vscode-notebook-cell:/c%3A/Users/Tumadiken/OneDrive%20-%20nu.edu.kz/%D0%A0%D0%B0%D0%B1%D0%BE%D1%87%D0%B8%D0%B9%20%D1%81%D1%82%D0%BE%D0%BB/Code/python/Python/seminar9_exercises.ipynb#W4sZmlsZQ%3D%3D?line=20'>21</a>\u001b[0m \u001b[39mdef\u001b[39;00m \u001b[39mdoubles\u001b[39m(arr):\n\u001b[1;32m---> <a href='vscode-notebook-cell:/c%3A/Users/Tumadiken/OneDrive%20-%20nu.edu.kz/%D0%A0%D0%B0%D0%B1%D0%BE%D1%87%D0%B8%D0%B9%20%D1%81%D1%82%D0%BE%D0%BB/Code/python/Python/seminar9_exercises.ipynb#W4sZmlsZQ%3D%3D?line=21'>22</a>\u001b[0m     doubling \u001b[39m=\u001b[39m (\u001b[39mmap\u001b[39;49m(\u001b[39mlambda\u001b[39;49;00m key: arr[key]))\n\u001b[0;32m     <a href='vscode-notebook-cell:/c%3A/Users/Tumadiken/OneDrive%20-%20nu.edu.kz/%D0%A0%D0%B0%D0%B1%D0%BE%D1%87%D0%B8%D0%B9%20%D1%81%D1%82%D0%BE%D0%BB/Code/python/Python/seminar9_exercises.ipynb#W4sZmlsZQ%3D%3D?line=22'>23</a>\u001b[0m     \u001b[39mprint\u001b[39m(doubling)\n",
      "\u001b[1;31mTypeError\u001b[0m: map() must have at least two arguments."
     ]
    }
   ],
   "source": [
    "#5 Write a function that returns a dictionary containing the frequency of characters of a text received as a parameter. \n",
    "# e.g., if the text is: “Hello World”, result should be: {H: 1, e: 1, l: 3, o: 2, W: 1, r: 1, d: 1 }\n",
    "# double each value in the dictionary using map and lambda functions!\n",
    "# filter the dictionary using filter and lambda functions by keeping only those \n",
    "# key-value pairs when the value is divisible by 3 \n",
    "\n",
    "def freq(arr = \"Hello World!\"):\n",
    "    mylist = []\n",
    "    mydict = {}\n",
    "    for i in arr:\n",
    "        if i not in mylist:\n",
    "            mylist.append(i)\n",
    "    counter = 0\n",
    "    for j in mylist:\n",
    "        for i in arr:\n",
    "            if j == i:\n",
    "                counter = counter + 1\n",
    "        mydict[j] = counter\n",
    "        counter = 0\n",
    "    print(mydict)\n",
    "def doubles(arr):\n",
    "    doubling = (map(lambda key: arr[key]))\n",
    "    print(doubling)\n",
    "freq()\n",
    "print(doubles(freq))\n"
   ]
  },
  {
   "cell_type": "code",
   "execution_count": 163,
   "id": "220a3b0a",
   "metadata": {},
   "outputs": [],
   "source": [
    "#6 Write a module that implements basic operations on three-dimensional vectors using functions \n",
    "# to be implemented: addition, subtraction, multiplication by a number, dot product \n",
    "# write a program that imports this module and perform some vector operations (at least one of each type)  \n"
   ]
  },
  {
   "cell_type": "code",
   "execution_count": null,
   "id": "c1f8d7a0",
   "metadata": {},
   "outputs": [],
   "source": [
    "# homework\n",
    "# Write a Python function to check whether a number is palindromic or not. \n",
    "# (A palindromic number is a number (such as 121) that remains the same when its digits are reversed) \n",
    "# using this function, display all palindromic number between 1 and 500 \n"
   ]
  }
 ],
 "metadata": {
  "kernelspec": {
   "display_name": "Python 3 (ipykernel)",
   "language": "python",
   "name": "python3"
  },
  "language_info": {
   "codemirror_mode": {
    "name": "ipython",
    "version": 3
   },
   "file_extension": ".py",
   "mimetype": "text/x-python",
   "name": "python",
   "nbconvert_exporter": "python",
   "pygments_lexer": "ipython3",
   "version": "3.11.6"
  }
 },
 "nbformat": 4,
 "nbformat_minor": 5
}
